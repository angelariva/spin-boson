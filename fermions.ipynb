{
 "cells": [
  {
   "cell_type": "markdown",
   "metadata": {},
   "source": [
    "# Single Impurity Anderson Model\n",
    "\n",
    "We use the fermionic chain mapping proposed in [1] to perform tensor network simulations of the Single Impurity Anderson Model (SIAM), with Hamiltonian:\n",
    "\\begin{equation}\n",
    "    \\hat H^\\text{SIAM}  = \\hat H_\\text{loc} + \\hat H_\\text{hyb} + \\hat H_\\text{cond} = \\overbrace{\\epsilon_d \\hat d^\\dagger \\hat d}^{\\hat H_\\text{loc}} + \\underbrace{\\sum_{k} V_k \\Big( \\hat d^\\dagger \\hat c_k + \\hat c_k^\\dagger \\hat d \\Big)}_{H_\\text{hyb}} + \\underbrace{\\sum_k \\epsilon_k \\hat c_k^\\dagger \\hat c_k}_{H_I^\\text{chain}}.\n",
    "\\end{equation}\n",
    "All of the operators obey to the usual fermionic anti-commutation relations: $\\{\\hat c_i, \\hat c_j^\\dagger \\} = \\delta_{ij}$, $\\{\\hat c_i, \\hat c_j \\} =\\{\\hat c_i^\\dagger, \\hat c_j^\\dagger \\} =0$ $\\forall i,j$. The chain mapping is based on a thermofield-like transformation [2], performed with fermions: ancillary fermionic operators $\\hat c_{2k}$ are defined, one for each of the original fermionic modes $\\hat c_{1k}$. A Bogoliubov transformation is then applied, so that two new fermionic modes $\\hat f_{1k}$ and $\\hat f_{2k}$ are defined as a linear combination of $\\hat c_{1k}$ and $\\hat c_{2k}$. Two chains are defined: the chain labelled $1$ for the empty modes, the chain labelled $2$ for the filled modes.\n",
    "The following relations are used to define the functions equivalent to the spectral density of the bosonic case, one for each chain:\n",
    "\\begin{equation}\n",
    "\\begin{split}\n",
    "   &V_{1k} = V_{k} \\sin \\theta_k = \\sqrt{\\frac{1}{e^{\\beta \\epsilon_k}+1}} \\\\\n",
    "   &V_{2k} = V_{k} \\cos \\theta_k = \\sqrt{\\frac{1}{e^{-\\beta \\epsilon_k}+1}}, \n",
    "\\end{split}\n",
    "\\end{equation}    \n",
    "where we choose $V_k= \\sqrt{1-k^2}$ and $e_k = k$, that is, a linear dispersion relation. This latter choice corresponds to a model of metals (gapless energy spectrum).\n",
    "\n",
    "\n",
    "The chain Hamiltonian is defined as:\n",
    "\\begin{equation}\n",
    "    \\hat H^\\text{chain}  = \\hat H_\\text{loc} + \\sum_{i = \\{1,2\\}} \\bigg[ J_{i,0} \\Big( \\hat d^\\dagger \\hat c_k +  \\hat d a_k^\\dagger \\Big) + \\sum_{n=1}^\\infty  \\Big( J_{i,n} \\hat a_{i,n}^\\dagger \\hat a_{i,n-1} +  J_{i,n} \\hat  a_{i,n-1}^\\dagger \\hat a_{i,n} \\Big) + \\sum_{n=0}^\\infty E_{i,n} \\hat  a_{i,n}^\\dagger \\hat a_{i,n} \\bigg],\n",
    "\\end{equation}\n",
    "where the $J_{i,n}$ coefficients are the couplings between the chain sites and the $E_{i,n}$ coefficients are the energies associated to each chain site.\n",
    "\n",
    "The corresponding MPO representation is:\n",
    "\\begin{equation}\n",
    "\\begin{split}\n",
    "... &\n",
    "\\begin{bmatrix}\n",
    " \\hat{\\mathbb I} & J_{2,1} \\hat a_{2,1}^\\dagger & J_{2,1} \\hat a_{2,1} & E_{2,1} \\hat a_{2,1}^\\dagger \\hat a_{2,1} \n",
    "\\end{bmatrix}\\cdot\n",
    "\\begin{bmatrix}\n",
    " \\hat{ \\mathbb I} & J_{2,0} \\hat a_{2,0}^\\dagger & J_{2,0} \\hat a_{2,0} & E_{2,0} \\hat a_{2,0}^\\dagger \\hat a_{2,0}\\\\\n",
    "0 &0 & 0 & \\hat a_{2,0} \\\\\n",
    "0 &0 & 0 & \\hat a_{2,0}^\\dagger \\\\\n",
    "0 &0 & 0 & \\hat{\\mathbb I}\n",
    "\\end{bmatrix}\n",
    "\\cdot \\\\ \\cdot &\n",
    "\\begin{bmatrix}\n",
    " \\hat{ \\mathbb I} & \\hat d^\\dagger & \\hat d & \\epsilon_d \\hat d^\\dagger \\hat d\\\\\n",
    "0 &0 & 0 & \\hat d \\\\\n",
    "0 &0 & 0 & \\hat d^\\dagger \\\\\n",
    "0 &0 & 0 & \\hat{\\mathbb I}\n",
    "\\end{bmatrix}\n",
    "\\cdot\n",
    "\\begin{bmatrix}\n",
    " \\hat{ \\mathbb I} & \\hat a_{1,0}^\\dagger & \\hat a_{1,0} & E_{1,0} \\hat a_{1,0}^\\dagger \\hat a_{1,0}\\\\\n",
    "0 &0 & 0 & \\hat J_{1,0}a_{1,0} \\\\\n",
    "0 &0 & 0 & \\hat J_{1,0}a_{1,0}^\\dagger \\\\\n",
    "0 &0 & 0 & \\hat{\\mathbb I}\n",
    "\\end{bmatrix}\n",
    "\\cdot\n",
    "\\begin{bmatrix}\n",
    " E_{2,1} \\hat a_{2,1}^\\dagger \\hat a_{2,1} \\\\ J_{2,1} \\hat a_{2,1}^\\dagger \\\\ J_{2,1} \\hat a_{2,1} \\\\ \\hat{\\mathbb I}\n",
    "\\end{bmatrix} ...\n",
    "\\end{split}\n",
    "\\end{equation}\n",
    "\n",
    "### References\n",
    "\n",
    "[1] Lucas Kohn and Giuseppe E. Santoro. Efficient mapping for anderson impurity problems with matrix product states. Physical Review B, 104(1):014303, Jul 2021. arXiv: [2012.01424](https://arxiv.org/abs/2012.01424).\n",
    "\n",
    "\n",
    "[2] Ines de Vega and Mari-Carmen Banuls. Thermofield-based chain mapping approach for open quantum systems. Physical Review A, 92(5):052116, Nov 2015. arXiv:[1504.07228](https://arxiv.org/abs/1504.07228)."
   ]
  },
  {
   "cell_type": "code",
   "execution_count": 55,
   "metadata": {},
   "outputs": [],
   "source": [
    "import h5py\n",
    "import numpy as np\n",
    "#import cmath for complex number operations\n",
    "import cmath\n",
    "import matplotlib\n",
    "import matplotlib.pyplot as pl\n",
    "import matplotlib.style as style \n",
    "import matplotlib.pyplot as pl\n",
    "\n",
    "from scipy.optimize import curve_fit\n",
    "style.use('tableau-colorblind10')\n",
    "matplotlib.rcParams.update({'font.size': 12})"
   ]
  },
  {
   "cell_type": "code",
   "execution_count": 14,
   "metadata": {},
   "outputs": [
    {
     "name": "stdout",
     "output_type": "stream",
     "text": [
      "\t name : Anderson impurity problem\n",
      "\t machine : local\n",
      "\t method : DTDVP\n",
      "\t dt = 0.5\n",
      "\t tmax = 20.0\n",
      "\t parameters : N = 20.0, ϵd = -0.4, β = 2.0, \n",
      "\t observables : chain1_filled_occup, chain2_empty_occup, system_occup, \n",
      "\t convparams : 0.01\n",
      "\t options : savebonddims = true, verbose = false, \n",
      "\n"
     ]
    }
   ],
   "source": [
    "path = \"/home/berkane/Documents/stage/simulations/\"\n",
    "\n",
    "# path to work from personal computer\n",
    "\n",
    "# Results for alpha_lit=0.01\n",
    "res = h5py.File(path+\"fermions/results/gbLAh/dat_gbLAh.jld\", \"r\")[\"data\"]\n",
    "info = open(path+\"fermions/results/gbLAh/info.txt\", \"r\")\n",
    "data = info.read()\n",
    "print(data)"
   ]
  },
  {
   "cell_type": "code",
   "execution_count": 36,
   "metadata": {},
   "outputs": [
    {
     "data": {
      "text/plain": [
       "41"
      ]
     },
     "execution_count": 36,
     "metadata": {},
     "output_type": "execute_result"
    }
   ],
   "source": [
    "list(res.keys())\n",
    "res[\"system_occup\"].shape[0]"
   ]
  },
  {
   "cell_type": "code",
   "execution_count": 59,
   "metadata": {},
   "outputs": [],
   "source": [
    "N = 20\n",
    "epsd = -0.4\n",
    "beta = 2.0"
   ]
  },
  {
   "cell_type": "code",
   "execution_count": 103,
   "metadata": {},
   "outputs": [],
   "source": [
    "occ = np.column_stack((res[\"chain1_filled_occup\"][()], res[\"system_occup\"][()]))\n",
    "occ = np.concatenate((occ.T, res[\"chain2_empty_occup\"][()].T))"
   ]
  },
  {
   "cell_type": "code",
   "execution_count": 136,
   "metadata": {},
   "outputs": [
    {
     "data": {
      "text/plain": [
       "<matplotlib.colorbar.Colorbar at 0x7f99ce151700>"
      ]
     },
     "execution_count": 136,
     "metadata": {},
     "output_type": "execute_result"
    },
    {
     "data": {
      "image/png": "[encoded data removed]",
      "text/plain": [
       "<Figure size 504x360 with 2 Axes>"
      ]
     },
     "metadata": {
      "needs_background": "light"
     },
     "output_type": "display_data"
    }
   ],
   "source": [
    "f, ax = pl.subplots(figsize=(7,5))\n",
    "img = ax.imshow(occ, cmap='plasma', interpolation='nearest', extent=[-1,1,-1,1])\n",
    "\n",
    "x_label_list = ['0', '5', '10', '15', '20']\n",
    "y_label_list = ['20', '10', '0', '10', '20']\n",
    "\n",
    "ax.set_xticks([-1.0, -0.5, 0, 0.5, 1.0])\n",
    "ax.set_yticks([-1.0, -0.5, 0, 0.5, 1.0])\n",
    "\n",
    "ax.set_xticklabels(x_label_list)\n",
    "ax.set_yticklabels(y_label_list)\n",
    "\n",
    "ax.set_xlabel(\"$t$\")\n",
    "ax.set_ylabel(\"$i$ chain sites\")\n",
    "\n",
    "#pl.xlabel('$t$', fontsize=16)\n",
    "f.colorbar(img)"
   ]
  },
  {
   "cell_type": "code",
   "execution_count": null,
   "metadata": {},
   "outputs": [],
   "source": []
  },
  {
   "cell_type": "code",
   "execution_count": null,
   "metadata": {},
   "outputs": [],
   "source": []
  }
 ],
 "metadata": {
  "kernelspec": {
   "display_name": "Python 3",
   "language": "python",
   "name": "python3"
  },
  "language_info": {
   "codemirror_mode": {
    "name": "ipython",
    "version": 3
   },
   "file_extension": ".py",
   "mimetype": "text/x-python",
   "name": "python",
   "nbconvert_exporter": "python",
   "pygments_lexer": "ipython3",
   "version": "3.8.5"
  }
 },
 "nbformat": 4,
 "nbformat_minor": 4
}
