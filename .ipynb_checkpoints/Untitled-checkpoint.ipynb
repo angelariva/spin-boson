{
 "cells": [
  {
   "cell_type": "markdown",
   "metadata": {},
   "source": [
    "# Back to the physical modes"
   ]
  },
  {
   "cell_type": "code",
   "execution_count": null,
   "metadata": {},
   "outputs": [],
   "source": [
    "import h5py\n",
    "import numpy as np\n",
    "#import cmath for complex number operations\n",
    "import cmath\n",
    "import matplotlib\n",
    "import matplotlib.pyplot as pl\n",
    "import matplotlib.style as style \n",
    "import matplotlib.pyplot as pl\n",
    "\n",
    "from scipy.optimize import curve_fit\n",
    "style.use('tableau-colorblind10')\n",
    "matplotlib.rcParams.update({'font.size': 12})"
   ]
  }
 ],
 "metadata": {
  "kernelspec": {
   "display_name": "Python 3",
   "language": "python",
   "name": "python3"
  },
  "language_info": {
   "codemirror_mode": {
    "name": "ipython",
    "version": 3
   },
   "file_extension": ".py",
   "mimetype": "text/x-python",
   "name": "python",
   "nbconvert_exporter": "python",
   "pygments_lexer": "ipython3",
   "version": "3.8.5"
  }
 },
 "nbformat": 4,
 "nbformat_minor": 4
}
